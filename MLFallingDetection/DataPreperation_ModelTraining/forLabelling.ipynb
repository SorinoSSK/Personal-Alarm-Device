{
 "cells": [
  {
   "cell_type": "code",
   "execution_count": null,
   "metadata": {},
   "outputs": [],
   "source": [
    "import pandas as pd\n",
    "import numpy as np\n",
    "import matplotlib.pyplot as plt"
   ]
  },
  {
   "cell_type": "code",
   "execution_count": null,
   "metadata": {},
   "outputs": [],
   "source": [
    "filename = \"exported_data\""
   ]
  },
  {
   "cell_type": "code",
   "execution_count": null,
   "metadata": {},
   "outputs": [],
   "source": [
    "df = pd.read_csv('../DataFile/' + filename + '.csv')\n",
    "df = df.drop(['gyroX','gyroY','gyroZ', 'id'], axis=1) # drop columns with NaN values and gibberish\n",
    "df.head()"
   ]
  },
  {
   "cell_type": "code",
   "execution_count": null,
   "metadata": {},
   "outputs": [],
   "source": [
    "# Sort timestamps in order and create index\n",
    "df['Norm'] = np.sqrt(df['accX']**2+df['accY']**2+df['accZ']**2)\n",
    "df = df.sort_values(by=['timestamp'])\n",
    "df = df.reset_index()\n",
    "df = df.reset_index()\n",
    "df.head()\n",
    "df = df.drop(['index'], axis=1) # drop columns with NaN values and gibberish\n",
    "display(df)"
   ]
  },
  {
   "cell_type": "code",
   "execution_count": null,
   "metadata": {},
   "outputs": [],
   "source": [
    "plt.plot(df['timestamp'], df['Norm'])"
   ]
  },
  {
   "cell_type": "code",
   "execution_count": null,
   "metadata": {},
   "outputs": [],
   "source": [
    "df.tail()"
   ]
  },
  {
   "cell_type": "code",
   "execution_count": null,
   "metadata": {},
   "outputs": [],
   "source": [
    "# Custom plot, for cleaning and processing\n",
    "\n",
    "# Recorded timestamps\n",
    "\n",
    "# 155256\t155257\n",
    "# 155330\t155331\n",
    "# 155355\t155356\n",
    "# 155455\t155458\n",
    "# 155459\t155500\n",
    "# 155520\t155521\n",
    "# 155605\t155606\n",
    "# 155655\t155657\n",
    "# 155646\t155647\n",
    "# 155659\t155700\n",
    "\n",
    "# Inspect 3 events arounrd this timing \n",
    "# \n",
    "# 155355\t155356\n",
    "# 155455\t155458\n",
    "# 155459\t155500\n",
    "\n",
    "# Inspect 4 events arounrd this timing \n",
    "# \n",
    "# 155605\t155606\n",
    "# 155655\t155657\n",
    "# 155646\t155647\n",
    "# 155659\t155700\n",
    "\n",
    "# 4,5\n",
    "\n",
    "ts = [\n",
    "'15:52:56',\t\n",
    "'15:52:57',\n",
    "'15:53:30',\t\n",
    "'15:53:31',\n",
    "'15:53:55',\t\n",
    "'15:53:56', \n",
    "'15:54:49',\t\n",
    "'15:54:50',\n",
    "'15:54:59',\t\n",
    "'15:55:00',\n",
    "'15:55:20',\t\n",
    "'15:55:21',\n",
    "'15:56:05',\t\n",
    "'15:56:06',\n",
    "'15:56:25',\t\n",
    "'15:56:26',\n",
    "'15:56:46',\t\n",
    "'15:56:47',\n",
    "'15:56:59',\t\n",
    "'15:57:00'\n",
    "]\n",
    "\n",
    "# Search for timestamps within df\n",
    "ts_ls = []\n",
    "for t in ts:\n",
    "    print(t)\n",
    "    halp = df[df['timestamp'].str.contains(t)]\n",
    "    ts_ls.append(halp['level_0'].iloc[0])\n",
    "print(ts_ls)"
   ]
  },
  {
   "cell_type": "code",
   "execution_count": null,
   "metadata": {},
   "outputs": [],
   "source": [
    "import os\n",
    "\n",
    "os.chdir(\"../DataFile/\")\n",
    "print(os.getcwd())\n",
    "\n",
    "# Labelling of data\n",
    "df['label'] = 0\n",
    "for i in range(0,len(ts_ls),2):\n",
    "    df['label'][ts_ls[i]:ts_ls[i+1]+1].replace(0,1, inplace=True)\n",
    "\n",
    "count = 0\n",
    "for path in os.scandir(os.getcwd()):\n",
    "    if path.is_file() and path.name.endswith('.csv'):\n",
    "        if 'cleaned_exported_data' in path.name:\n",
    "            count+=1\n",
    "count+=1\n",
    "newPath = '../DataFile/cleaned_exported_data' + str(count) + '.csv'\n",
    "df.to_csv(newPath)"
   ]
  }
 ],
 "metadata": {
  "kernelspec": {
   "display_name": "Python 3.10.12 64-bit",
   "language": "python",
   "name": "python3"
  },
  "language_info": {
   "codemirror_mode": {
    "name": "ipython",
    "version": 3
   },
   "file_extension": ".py",
   "mimetype": "text/x-python",
   "name": "python",
   "nbconvert_exporter": "python",
   "pygments_lexer": "ipython3",
   "version": "3.10.8"
  },
  "vscode": {
   "interpreter": {
    "hash": "bd385fe162c5ca0c84973b7dd5c518456272446b2b64e67c2a69f949ca7a1754"
   }
  }
 },
 "nbformat": 4,
 "nbformat_minor": 2
}
